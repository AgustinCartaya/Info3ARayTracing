{
 "cells": [
  {
   "cell_type": "code",
   "execution_count": 11,
   "metadata": {},
   "outputs": [
    {
     "name": "stdout",
     "output_type": "stream",
     "text": [
      "[3.0, -3.0, 2.0]\n",
      "(2.5773502706633247, (1.4226497248779186, None))\n"
     ]
    }
   ],
   "source": [
    "from dags import *\n",
    "import polynomes\n",
    "\n",
    "from color import Color\n",
    "from material import *\n",
    "from point import Point\n",
    "from vector import Vector\n",
    "\n",
    "class Obj(object):\n",
    "    def __init__( self):\n",
    "        \" \"\n",
    "        \n",
    "\n",
    "class Prim(Obj):\n",
    "    def __init__( self, fonc_xyz, color):\n",
    "        self.fonc=fonc_xyz\n",
    "        self.color=color\n",
    "    \n",
    "    def intersects( self, rayon):\n",
    "        dico = { \"x\": Nb(rayon.source.x) + Nb(rayon.dir.x)*Var(\"t\"),\n",
    "        \"y\": Nb(rayon.source.y) + Nb(rayon.dir.y)*Var(\"t\"),\n",
    "        \"z\": Nb(rayon.source.z) + Nb(rayon.dir.z)*Var(\"t\")}\n",
    "        expression_en_t=self.fonc.evalsymb( dico )\n",
    "        pol_t = expression_en_t.topolent()\n",
    "        return racines( pol_t)\n",
    "    \n",
    "    def normal( self, tpl):\n",
    "        fx=self.fonc.derivee(\"x\")\n",
    "        fy=self.fonc.derivee(\"y\")\n",
    "        fz=self.fonc.derivee(\"z\")\n",
    "        dico={\"x\":tpl.x , \"y\": tpl.y , \"z\":tpl.z}\n",
    "        (a,b,c)= ( fx.eval( dico), fy.eval( dico), fz.eval( dico))\n",
    "        return normalize3( (a, b, c) )\n",
    "    \n",
    "class Sphere(Prim):\n",
    "    \n",
    "    def __init__( self, origin, r, color):\n",
    "        Prim.__init__( self, Sphere.ecuation([origin,r]), color)\n",
    "        self.origin = origin\n",
    "        self.r = r\n",
    "            \n",
    "    @staticmethod\n",
    "    def ecuation(args):\n",
    "        (cx,cy,cz,r) = (args[0].x,args[0].y,args[0].z, args[1])\n",
    "        x=Var(\"x\")\n",
    "        y=Var(\"y\")\n",
    "        z=Var(\"z\")\n",
    "        return (x-Nb(cx))*(x-Nb(cx)) + (y-Nb(cy))*(y-Nb(cy)) + (z-Nb(cz))*(z-Nb(cz)) - Nb(r*r) \n",
    "\n",
    "class Rayon( object):\n",
    "    def __init__( self, source, dir):\n",
    "        self.source = source\n",
    "        self.dir = dir\n",
    "\n",
    "ray = Rayon(  Point(2,2,2), Vector(-1,-1,-1) )\n",
    "s1 = Sphere( Point(0,0,0), 1, Color(0,0,0) )\n",
    "print( s1.intersects(ray) )\n",
    "#print( boule([0,0,0], 1).evalsymb({'x':Var('t'), 'y':Var('t'), 'z':Var('t')}).topolent() )\n"
   ]
  },
  {
   "cell_type": "code",
   "execution_count": null,
   "metadata": {},
   "outputs": [],
   "source": []
  }
 ],
 "metadata": {
  "kernelspec": {
   "display_name": "Python 3",
   "language": "python",
   "name": "python3"
  },
  "language_info": {
   "codemirror_mode": {
    "name": "ipython",
    "version": 3
   },
   "file_extension": ".py",
   "mimetype": "text/x-python",
   "name": "python",
   "nbconvert_exporter": "python",
   "pygments_lexer": "ipython3",
   "version": "3.8.3"
  }
 },
 "nbformat": 4,
 "nbformat_minor": 4
}
